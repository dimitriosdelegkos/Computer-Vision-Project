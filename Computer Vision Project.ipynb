{
  "cells": [
    {
      "cell_type": "markdown",
      "metadata": {
        "colab_type": "text",
        "id": "3DR-eO17geWu"
      },
      "source": [
        "# Dog/Cat Classification - Computer Vision Project"
      ]
    },
    {
      "cell_type": "markdown",
      "metadata": {},
      "source": [
        "I will work with image data related to dogs and cats photos."
      ]
    },
    {
      "cell_type": "markdown",
      "metadata": {},
      "source": [
        "The **goal** of this project is to make a model which can recognize a photo as a *Dog* or *Cat*.\n",
        "For this purpose, a *Convolutional Neural Network* is being used."
      ]
    },
    {
      "cell_type": "markdown",
      "metadata": {
        "colab_type": "text",
        "id": "EMefrVPCg-60"
      },
      "source": [
        "## Import the libraries"
      ]
    },
    {
      "cell_type": "code",
      "execution_count": 1,
      "metadata": {
        "colab": {},
        "colab_type": "code",
        "id": "sCV30xyVhFbE"
      },
      "outputs": [],
      "source": [
        "import tensorflow as tf\n",
        "from tensorflow.keras.preprocessing.image import ImageDataGenerator # i will use it for data augmentation"
      ]
    },
    {
      "cell_type": "markdown",
      "metadata": {
        "colab_type": "text",
        "id": "oxQxCBWyoGPE"
      },
      "source": [
        "## Data Preprocessing"
      ]
    },
    {
      "cell_type": "markdown",
      "metadata": {},
      "source": [
        "The dataset contains 3 directories:\n",
        "1. **Train Set** : Training images of cat and dogs\n",
        "2. **Test Set** : Test images of cat and dogs\n",
        "3. **Single Predictions** : Directory for single image predictions"
      ]
    },
    {
      "cell_type": "markdown",
      "metadata": {},
      "source": [
        "*Note*: The dataset can be found [here](https://drive.google.com/drive/folders/1qaZ9lrM89hGx_e-Jfev4dyxVkuvLswbZ)"
      ]
    },
    {
      "cell_type": "markdown",
      "metadata": {
        "colab_type": "text",
        "id": "MvE-heJNo3GG"
      },
      "source": [
        "### Preprocess the training set"
      ]
    },
    {
      "cell_type": "code",
      "execution_count": 2,
      "metadata": {
        "colab": {},
        "colab_type": "code",
        "id": "0koUcJMJpEBD"
      },
      "outputs": [
        {
          "name": "stdout",
          "output_type": "stream",
          "text": [
            "Found 7999 images belonging to 2 classes.\n"
          ]
        }
      ],
      "source": [
        "# Make some transformations ONLY to the training data in order to avoid overfitting (e.g Zoom, rotation,etc.)\n",
        "\n",
        "train_datagen = ImageDataGenerator(\n",
        "        rescale=1./255,\n",
        "        shear_range=0.2,\n",
        "        zoom_range=0.2,\n",
        "        horizontal_flip=True)\n",
        "\n",
        "training_set = train_datagen.flow_from_directory(\n",
        "        'dataset/training_set',\n",
        "        target_size=(64, 64), # equal size for all images\n",
        "        batch_size=32,\n",
        "        class_mode='binary') # This code-snippet connects the above object with the image data"
      ]
    },
    {
      "cell_type": "markdown",
      "metadata": {
        "colab_type": "text",
        "id": "mrCMmGw9pHys"
      },
      "source": [
        "### Preprocess the test set"
      ]
    },
    {
      "cell_type": "code",
      "execution_count": 3,
      "metadata": {
        "colab": {},
        "colab_type": "code",
        "id": "SH4WzfOhpKc3"
      },
      "outputs": [
        {
          "name": "stdout",
          "output_type": "stream",
          "text": [
            "Found 2000 images belonging to 2 classes.\n"
          ]
        }
      ],
      "source": [
        "# This time i transform the images by only applying rescaling.\n",
        "\n",
        "test_datagen = ImageDataGenerator(rescale=1./255)\n",
        "\n",
        "test_set = test_datagen.flow_from_directory(\n",
        "        'dataset/test_set',\n",
        "        target_size=(64, 64),\n",
        "        batch_size=32,\n",
        "        class_mode='binary')"
      ]
    },
    {
      "cell_type": "markdown",
      "metadata": {
        "colab_type": "text",
        "id": "af8O4l90gk7B"
      },
      "source": [
        "## Build the CNN"
      ]
    },
    {
      "cell_type": "code",
      "execution_count": 4,
      "metadata": {
        "colab": {},
        "colab_type": "code",
        "id": "SAUt4UMPlhLS"
      },
      "outputs": [],
      "source": [
        "model = tf.keras.Sequential([ \n",
        "                            tf.keras.layers.Conv2D(filters=32,kernel_size=3,activation='relu',input_shape = (64,64,3)),\n",
        "                            tf.keras.layers.MaxPool2D(pool_size=2,strides=2),\n",
        "                            \n",
        "                            tf.keras.layers.Conv2D(filters=32,kernel_size=3,activation='relu'),\n",
        "                            tf.keras.layers.MaxPool2D(pool_size=2,strides=2),\n",
        "                            \n",
        "                            tf.keras.layers.Flatten(),\n",
        "                            \n",
        "                            tf.keras.layers.Dense(128,activation='relu'), #hidden layer\n",
        "                            tf.keras.layers.Dense(1,activation='sigmoid')])"
      ]
    },
    {
      "cell_type": "code",
      "execution_count": 5,
      "metadata": {},
      "outputs": [
        {
          "name": "stdout",
          "output_type": "stream",
          "text": [
            "Model: \"sequential\"\n",
            "___________________________________________________________________________\n",
            "Layer (type)                     Output Shape                  Param #     \n",
            "===========================================================================\n",
            "conv2d (Conv2D)                  (None, 62, 62, 32)            896         \n",
            "___________________________________________________________________________\n",
            "max_pooling2d (MaxPooling2D)     (None, 31, 31, 32)            0           \n",
            "___________________________________________________________________________\n",
            "conv2d_1 (Conv2D)                (None, 29, 29, 32)            9248        \n",
            "___________________________________________________________________________\n",
            "max_pooling2d_1 (MaxPooling2D)   (None, 14, 14, 32)            0           \n",
            "___________________________________________________________________________\n",
            "flatten (Flatten)                (None, 6272)                  0           \n",
            "___________________________________________________________________________\n",
            "dense (Dense)                    (None, 128)                   802944      \n",
            "___________________________________________________________________________\n",
            "dense_1 (Dense)                  (None, 1)                     129         \n",
            "===========================================================================\n",
            "Total params: 813,217\n",
            "Trainable params: 813,217\n",
            "Non-trainable params: 0\n",
            "___________________________________________________________________________\n"
          ]
        }
      ],
      "source": [
        "model.summary(line_length=75)"
      ]
    },
    {
      "cell_type": "code",
      "execution_count": 6,
      "metadata": {
        "colab": {},
        "colab_type": "code",
        "id": "NALksrNQpUlJ"
      },
      "outputs": [],
      "source": [
        "model.compile(optimizer='adam',loss='binary_crossentropy',metrics=['accuracy'])"
      ]
    },
    {
      "cell_type": "markdown",
      "metadata": {
        "colab_type": "text",
        "id": "ehS-v3MIpX2h"
      },
      "source": [
        "Train the CNN on the training set and evaluating it on the test set"
      ]
    },
    {
      "cell_type": "code",
      "execution_count": 7,
      "metadata": {
        "colab": {},
        "colab_type": "code",
        "id": "XUj1W4PJptta"
      },
      "outputs": [
        {
          "name": "stdout",
          "output_type": "stream",
          "text": [
            "Epoch 1/23\n",
            "250/250 - 25s - loss: 0.6842 - accuracy: 0.5631 - val_loss: 0.6407 - val_accuracy: 0.6495\n",
            "Epoch 2/23\n",
            "250/250 - 25s - loss: 0.6240 - accuracy: 0.6548 - val_loss: 0.6418 - val_accuracy: 0.6195\n",
            "Epoch 3/23\n",
            "250/250 - 25s - loss: 0.5820 - accuracy: 0.6936 - val_loss: 0.5605 - val_accuracy: 0.7130\n",
            "Epoch 4/23\n",
            "250/250 - 25s - loss: 0.5453 - accuracy: 0.7168 - val_loss: 0.5359 - val_accuracy: 0.7290\n",
            "Epoch 5/23\n",
            "250/250 - 25s - loss: 0.5291 - accuracy: 0.7320 - val_loss: 0.5495 - val_accuracy: 0.7215\n",
            "Epoch 6/23\n",
            "250/250 - 25s - loss: 0.5115 - accuracy: 0.7462 - val_loss: 0.5309 - val_accuracy: 0.7440\n",
            "Epoch 7/23\n",
            "250/250 - 25s - loss: 0.4962 - accuracy: 0.7605 - val_loss: 0.5085 - val_accuracy: 0.7540\n",
            "Epoch 8/23\n",
            "250/250 - 25s - loss: 0.4734 - accuracy: 0.7742 - val_loss: 0.5245 - val_accuracy: 0.7425\n",
            "Epoch 9/23\n",
            "250/250 - 25s - loss: 0.4616 - accuracy: 0.7770 - val_loss: 0.4917 - val_accuracy: 0.7625\n",
            "Epoch 10/23\n",
            "250/250 - 25s - loss: 0.4468 - accuracy: 0.7870 - val_loss: 0.4785 - val_accuracy: 0.7745\n",
            "Epoch 11/23\n",
            "250/250 - 25s - loss: 0.4305 - accuracy: 0.8012 - val_loss: 0.4731 - val_accuracy: 0.7800\n",
            "Epoch 12/23\n",
            "250/250 - 24s - loss: 0.4073 - accuracy: 0.8105 - val_loss: 0.5160 - val_accuracy: 0.7515\n",
            "Epoch 13/23\n",
            "250/250 - 24s - loss: 0.4029 - accuracy: 0.8171 - val_loss: 0.4973 - val_accuracy: 0.7635\n",
            "Epoch 14/23\n",
            "250/250 - 25s - loss: 0.3938 - accuracy: 0.8194 - val_loss: 0.4657 - val_accuracy: 0.7900\n",
            "Epoch 15/23\n",
            "250/250 - 25s - loss: 0.3718 - accuracy: 0.8306 - val_loss: 0.4604 - val_accuracy: 0.7985\n",
            "Epoch 16/23\n",
            "250/250 - 25s - loss: 0.3713 - accuracy: 0.8316 - val_loss: 0.4805 - val_accuracy: 0.7765\n",
            "Epoch 17/23\n",
            "250/250 - 24s - loss: 0.3581 - accuracy: 0.8377 - val_loss: 0.4554 - val_accuracy: 0.8050\n",
            "Epoch 18/23\n",
            "250/250 - 25s - loss: 0.3395 - accuracy: 0.8489 - val_loss: 0.4849 - val_accuracy: 0.7840\n",
            "Epoch 19/23\n",
            "250/250 - 25s - loss: 0.3146 - accuracy: 0.8590 - val_loss: 0.4977 - val_accuracy: 0.7945\n",
            "Epoch 20/23\n",
            "250/250 - 25s - loss: 0.3151 - accuracy: 0.8591 - val_loss: 0.4654 - val_accuracy: 0.7945\n",
            "Epoch 21/23\n",
            "250/250 - 25s - loss: 0.2998 - accuracy: 0.8719 - val_loss: 0.5092 - val_accuracy: 0.7935\n",
            "Epoch 22/23\n",
            "250/250 - 25s - loss: 0.3007 - accuracy: 0.8699 - val_loss: 0.4708 - val_accuracy: 0.8090\n",
            "Epoch 23/23\n",
            "250/250 - 25s - loss: 0.2895 - accuracy: 0.8750 - val_loss: 0.5018 - val_accuracy: 0.8100\n"
          ]
        },
        {
          "data": {
            "text/plain": [
              "<tensorflow.python.keras.callbacks.History at 0x13f03c0b460>"
            ]
          },
          "execution_count": 7,
          "metadata": {},
          "output_type": "execute_result"
        }
      ],
      "source": [
        "model.fit(training_set,validation_data=test_set,epochs=23,verbose=2)"
      ]
    },
    {
      "cell_type": "markdown",
      "metadata": {},
      "source": [
        "As we can see, the CNN model has an overall 81% accuracy"
      ]
    },
    {
      "cell_type": "markdown",
      "metadata": {
        "colab_type": "text",
        "id": "U3PZasO0006Z"
      },
      "source": [
        "## Make single predictions"
      ]
    },
    {
      "cell_type": "code",
      "execution_count": 8,
      "metadata": {
        "colab": {},
        "colab_type": "code",
        "id": "gsSiWEJY1BPB"
      },
      "outputs": [
        {
          "name": "stdout",
          "output_type": "stream",
          "text": [
            "[[1.]]\n"
          ]
        }
      ],
      "source": [
        "import numpy as np\n",
        "from tensorflow.keras.preprocessing import image\n",
        "\n",
        "#load the image\n",
        "test_image = image.load_img('dataset/single_prediction/cat_or_dog_1.jpg', target_size=(64,64))\n",
        "\n",
        "#apply some transformation (that is converting it into array)\n",
        "test_image = image.img_to_array(test_image)\n",
        "\n",
        "#convert it into batches (since the model has been trained with batches, rather than with single images)\n",
        "test_image = np.expand_dims(test_image,axis=0)\n",
        "\n",
        "result = model.predict(test_image)\n",
        "print(result)\n"
      ]
    },
    {
      "cell_type": "markdown",
      "metadata": {},
      "source": [
        "But what does it mean 0 and 1?"
      ]
    },
    {
      "cell_type": "code",
      "execution_count": 9,
      "metadata": {},
      "outputs": [
        {
          "data": {
            "text/plain": [
              "{'cats': 0, 'dogs': 1}"
            ]
          },
          "execution_count": 9,
          "metadata": {},
          "output_type": "execute_result"
        }
      ],
      "source": [
        "training_set.class_indices"
      ]
    },
    {
      "cell_type": "markdown",
      "metadata": {},
      "source": [
        "Thus, 0 means *'Cat'* and 1 *'Dog'*"
      ]
    },
    {
      "cell_type": "code",
      "execution_count": 10,
      "metadata": {},
      "outputs": [
        {
          "name": "stdout",
          "output_type": "stream",
          "text": [
            "Dog\n"
          ]
        }
      ],
      "source": [
        "if result[0][0] == 1:\n",
        "    prediction = 'Dog'\n",
        "else:\n",
        "    prediction = 'Cat'\n",
        "print(prediction)"
      ]
    },
    {
      "cell_type": "code",
      "execution_count": 11,
      "metadata": {},
      "outputs": [],
      "source": [
        "# Create a function to predict the class of an image\n",
        "def get_prediction(img_path):\n",
        "    test_image = image.load_img(img_path, target_size=(64,64))\n",
        "    test_image = image.img_to_array(test_image)\n",
        "    test_image = np.expand_dims(test_image,axis=0)\n",
        "    result = model.predict(test_image)\n",
        "    if result[0][0] == 1:\n",
        "        return 'Dog'\n",
        "    else:\n",
        "        return 'Cat'"
      ]
    },
    {
      "cell_type": "code",
      "execution_count": 12,
      "metadata": {},
      "outputs": [
        {
          "data": {
            "text/plain": [
              "'Cat'"
            ]
          },
          "execution_count": 12,
          "metadata": {},
          "output_type": "execute_result"
        }
      ],
      "source": [
        "get_prediction('dataset/single_prediction/cat_or_dog_2.jpg')"
      ]
    },
    {
      "cell_type": "code",
      "execution_count": 13,
      "metadata": {},
      "outputs": [
        {
          "data": {
            "text/plain": [
              "'Dog'"
            ]
          },
          "execution_count": 13,
          "metadata": {},
          "output_type": "execute_result"
        }
      ],
      "source": [
        "get_prediction('dataset/single_prediction/cat_or_dog_3.jpg')"
      ]
    },
    {
      "cell_type": "code",
      "execution_count": 14,
      "metadata": {},
      "outputs": [
        {
          "data": {
            "text/plain": [
              "'Dog'"
            ]
          },
          "execution_count": 14,
          "metadata": {},
          "output_type": "execute_result"
        }
      ],
      "source": [
        "get_prediction('dataset/single_prediction/cat_or_dog_4.jpg') # False prediction"
      ]
    },
    {
      "cell_type": "code",
      "execution_count": 15,
      "metadata": {},
      "outputs": [
        {
          "data": {
            "text/plain": [
              "'Cat'"
            ]
          },
          "execution_count": 15,
          "metadata": {},
          "output_type": "execute_result"
        }
      ],
      "source": [
        "get_prediction('dataset/single_prediction/cat_or_dog_5.jpg') "
      ]
    }
  ],
  "metadata": {
    "colab": {
      "collapsed_sections": [],
      "name": "convolutional_neural_network.ipynb",
      "provenance": [],
      "toc_visible": true
    },
    "kernelspec": {
      "display_name": "Python 3",
      "name": "python3"
    },
    "language_info": {
      "codemirror_mode": {
        "name": "ipython",
        "version": 3
      },
      "file_extension": ".py",
      "mimetype": "text/x-python",
      "name": "python",
      "nbconvert_exporter": "python",
      "pygments_lexer": "ipython3",
      "version": "3.8.8"
    }
  },
  "nbformat": 4,
  "nbformat_minor": 0
}
